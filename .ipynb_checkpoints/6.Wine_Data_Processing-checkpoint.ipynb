{
 "cells": [
  {
   "cell_type": "markdown",
   "metadata": {},
   "source": [
    "# Ask if we even need to do this."
   ]
  },
  {
   "cell_type": "code",
   "execution_count": 4,
   "metadata": {},
   "outputs": [],
   "source": [
    "import pandas as pd\n",
    "import matplotlib.pyplot as plt\n",
    "%matplotlib inline\n",
    "plt.rcParams[\"figure.figsize\"] = (6, 6)"
   ]
  },
  {
   "cell_type": "code",
   "execution_count": 5,
   "metadata": {},
   "outputs": [],
   "source": [
    "wine = (pd\n",
    "             .read_csv(\"../Projects/wineQualityReds.csv\")\n",
    "             .rename(columns={\n",
    "    \"Unnamed: 0\" : \"id\",\n",
    "    \"fixed.acidity\" : \"fixed_acidity\",\n",
    "    \"volatile.acidity\" : \"volatile_acidity\",\n",
    "    \"citric.acid\" : \"citric_acid\",\n",
    "    \"residual.sugar\" : \"residual_sugar\",\n",
    "    \"free.sulfur.dioxide\" : \"free_sulfur_dioxide\",\n",
    "    \"total.sulfur.dioxide\" : \"total_sulfur_dioxide\",\n",
    "    \"sulphates\" : \"sulfates\",\n",
    "})\n",
    "            .query(\"pH>0\")\n",
    ")"
   ]
  },
  {
   "cell_type": "code",
   "execution_count": 6,
   "metadata": {},
   "outputs": [
    {
     "data": {
      "text/html": [
       "<div>\n",
       "<style scoped>\n",
       "    .dataframe tbody tr th:only-of-type {\n",
       "        vertical-align: middle;\n",
       "    }\n",
       "\n",
       "    .dataframe tbody tr th {\n",
       "        vertical-align: top;\n",
       "    }\n",
       "\n",
       "    .dataframe thead th {\n",
       "        text-align: right;\n",
       "    }\n",
       "</style>\n",
       "<table border=\"1\" class=\"dataframe\">\n",
       "  <thead>\n",
       "    <tr style=\"text-align: right;\">\n",
       "      <th></th>\n",
       "      <th>id</th>\n",
       "      <th>fixed_acidity</th>\n",
       "      <th>volatile_acidity</th>\n",
       "      <th>citric_acid</th>\n",
       "      <th>residual_sugar</th>\n",
       "      <th>chlorides</th>\n",
       "      <th>free_sulfur_dioxide</th>\n",
       "      <th>total_sulfur_dioxide</th>\n",
       "      <th>density</th>\n",
       "      <th>pH</th>\n",
       "      <th>sulfates</th>\n",
       "      <th>alcohol</th>\n",
       "      <th>quality</th>\n",
       "    </tr>\n",
       "  </thead>\n",
       "  <tbody>\n",
       "    <tr>\n",
       "      <th>0</th>\n",
       "      <td>1</td>\n",
       "      <td>7.4</td>\n",
       "      <td>0.70</td>\n",
       "      <td>0.00</td>\n",
       "      <td>1.9</td>\n",
       "      <td>0.076</td>\n",
       "      <td>11.0</td>\n",
       "      <td>34.0</td>\n",
       "      <td>0.9978</td>\n",
       "      <td>3.51</td>\n",
       "      <td>0.56</td>\n",
       "      <td>9.4</td>\n",
       "      <td>5</td>\n",
       "    </tr>\n",
       "    <tr>\n",
       "      <th>1</th>\n",
       "      <td>2</td>\n",
       "      <td>7.8</td>\n",
       "      <td>0.88</td>\n",
       "      <td>0.00</td>\n",
       "      <td>2.6</td>\n",
       "      <td>0.098</td>\n",
       "      <td>25.0</td>\n",
       "      <td>67.0</td>\n",
       "      <td>0.9968</td>\n",
       "      <td>3.20</td>\n",
       "      <td>0.68</td>\n",
       "      <td>9.8</td>\n",
       "      <td>5</td>\n",
       "    </tr>\n",
       "    <tr>\n",
       "      <th>2</th>\n",
       "      <td>3</td>\n",
       "      <td>7.8</td>\n",
       "      <td>0.76</td>\n",
       "      <td>0.04</td>\n",
       "      <td>2.3</td>\n",
       "      <td>0.092</td>\n",
       "      <td>15.0</td>\n",
       "      <td>54.0</td>\n",
       "      <td>0.9970</td>\n",
       "      <td>3.26</td>\n",
       "      <td>0.65</td>\n",
       "      <td>9.8</td>\n",
       "      <td>5</td>\n",
       "    </tr>\n",
       "    <tr>\n",
       "      <th>3</th>\n",
       "      <td>4</td>\n",
       "      <td>11.2</td>\n",
       "      <td>0.28</td>\n",
       "      <td>0.56</td>\n",
       "      <td>1.9</td>\n",
       "      <td>0.075</td>\n",
       "      <td>17.0</td>\n",
       "      <td>60.0</td>\n",
       "      <td>0.9980</td>\n",
       "      <td>3.16</td>\n",
       "      <td>0.58</td>\n",
       "      <td>9.8</td>\n",
       "      <td>6</td>\n",
       "    </tr>\n",
       "    <tr>\n",
       "      <th>4</th>\n",
       "      <td>5</td>\n",
       "      <td>7.4</td>\n",
       "      <td>0.70</td>\n",
       "      <td>0.00</td>\n",
       "      <td>1.9</td>\n",
       "      <td>0.076</td>\n",
       "      <td>11.0</td>\n",
       "      <td>34.0</td>\n",
       "      <td>0.9978</td>\n",
       "      <td>3.51</td>\n",
       "      <td>0.56</td>\n",
       "      <td>9.4</td>\n",
       "      <td>5</td>\n",
       "    </tr>\n",
       "  </tbody>\n",
       "</table>\n",
       "</div>"
      ],
      "text/plain": [
       "   id  fixed_acidity  volatile_acidity  citric_acid  residual_sugar  \\\n",
       "0   1            7.4              0.70         0.00             1.9   \n",
       "1   2            7.8              0.88         0.00             2.6   \n",
       "2   3            7.8              0.76         0.04             2.3   \n",
       "3   4           11.2              0.28         0.56             1.9   \n",
       "4   5            7.4              0.70         0.00             1.9   \n",
       "\n",
       "   chlorides  free_sulfur_dioxide  total_sulfur_dioxide  density    pH  \\\n",
       "0      0.076                 11.0                  34.0   0.9978  3.51   \n",
       "1      0.098                 25.0                  67.0   0.9968  3.20   \n",
       "2      0.092                 15.0                  54.0   0.9970  3.26   \n",
       "3      0.075                 17.0                  60.0   0.9980  3.16   \n",
       "4      0.076                 11.0                  34.0   0.9978  3.51   \n",
       "\n",
       "   sulfates  alcohol  quality  \n",
       "0      0.56      9.4        5  \n",
       "1      0.68      9.8        5  \n",
       "2      0.65      9.8        5  \n",
       "3      0.58      9.8        6  \n",
       "4      0.56      9.4        5  "
      ]
     },
     "execution_count": 6,
     "metadata": {},
     "output_type": "execute_result"
    }
   ],
   "source": [
    "wine.head()"
   ]
  },
  {
   "cell_type": "code",
   "execution_count": 7,
   "metadata": {},
   "outputs": [
    {
     "data": {
      "text/plain": [
       "(1599, 13)"
      ]
     },
     "execution_count": 7,
     "metadata": {},
     "output_type": "execute_result"
    }
   ],
   "source": [
    "wine.shape"
   ]
  },
  {
   "cell_type": "code",
   "execution_count": 8,
   "metadata": {},
   "outputs": [],
   "source": [
    "wine = wine.drop_duplicates()"
   ]
  },
  {
   "cell_type": "code",
   "execution_count": 9,
   "metadata": {},
   "outputs": [
    {
     "data": {
      "text/plain": [
       "(1599, 13)"
      ]
     },
     "execution_count": 9,
     "metadata": {},
     "output_type": "execute_result"
    }
   ],
   "source": [
    "wine.shape"
   ]
  },
  {
   "cell_type": "code",
   "execution_count": 10,
   "metadata": {},
   "outputs": [
    {
     "name": "stdout",
     "output_type": "stream",
     "text": [
      "id | 0 | int64\n",
      "fixed_acidity | 12 | float64\n",
      "volatile_acidity | 10 | float64\n",
      "citric_acid | 1 | float64\n",
      "residual_sugar | 30 | float64\n",
      "chlorides | 31 | float64\n",
      "free_sulfur_dioxide | 22 | float64\n",
      "total_sulfur_dioxide | 15 | float64\n",
      "density | 18 | float64\n",
      "pH | 8 | float64\n",
      "sulfates | 27 | float64\n",
      "alcohol | 8 | float64\n",
      "quality | 10 | int64\n"
     ]
    }
   ],
   "source": [
    "from scipy import stats\n",
    "import numpy as np\n",
    "\n",
    "def outliers_col(df):\n",
    "    for column in df:\n",
    "        if df[column].dtype != np.object:\n",
    "            n_outliers = len(df[np.abs(stats.zscore(df[column])) > 3])    \n",
    "            print(\"{} | {} | {}\".format(\n",
    "                df[column].name,\n",
    "                n_outliers,\n",
    "                df[column].dtype\n",
    "        ))\n",
    "\n",
    "outliers_col(wine)"
   ]
  },
  {
   "cell_type": "code",
   "execution_count": 16,
   "metadata": {},
   "outputs": [
    {
     "data": {
      "text/html": [
       "<div>\n",
       "<style scoped>\n",
       "    .dataframe tbody tr th:only-of-type {\n",
       "        vertical-align: middle;\n",
       "    }\n",
       "\n",
       "    .dataframe tbody tr th {\n",
       "        vertical-align: top;\n",
       "    }\n",
       "\n",
       "    .dataframe thead th {\n",
       "        text-align: right;\n",
       "    }\n",
       "</style>\n",
       "<table border=\"1\" class=\"dataframe\">\n",
       "  <thead>\n",
       "    <tr style=\"text-align: right;\">\n",
       "      <th></th>\n",
       "      <th>id</th>\n",
       "      <th>fixed_acidity</th>\n",
       "      <th>volatile_acidity</th>\n",
       "      <th>citric_acid</th>\n",
       "      <th>residual_sugar</th>\n",
       "      <th>chlorides</th>\n",
       "      <th>free_sulfur_dioxide</th>\n",
       "      <th>total_sulfur_dioxide</th>\n",
       "      <th>density</th>\n",
       "      <th>pH</th>\n",
       "      <th>sulfates</th>\n",
       "      <th>alcohol</th>\n",
       "      <th>quality</th>\n",
       "    </tr>\n",
       "  </thead>\n",
       "  <tbody>\n",
       "    <tr>\n",
       "      <th>count</th>\n",
       "      <td>1433.000000</td>\n",
       "      <td>1433.000000</td>\n",
       "      <td>1433.000000</td>\n",
       "      <td>1433.000000</td>\n",
       "      <td>1433.000000</td>\n",
       "      <td>1433.000000</td>\n",
       "      <td>1433.000000</td>\n",
       "      <td>1433.000000</td>\n",
       "      <td>1433.000000</td>\n",
       "      <td>1433.000000</td>\n",
       "      <td>1433.000000</td>\n",
       "      <td>1433.000000</td>\n",
       "      <td>1433.000000</td>\n",
       "    </tr>\n",
       "    <tr>\n",
       "      <th>mean</th>\n",
       "      <td>812.624564</td>\n",
       "      <td>8.312491</td>\n",
       "      <td>0.527034</td>\n",
       "      <td>0.260998</td>\n",
       "      <td>2.277879</td>\n",
       "      <td>0.079431</td>\n",
       "      <td>15.613747</td>\n",
       "      <td>44.613398</td>\n",
       "      <td>0.996634</td>\n",
       "      <td>3.319826</td>\n",
       "      <td>0.637976</td>\n",
       "      <td>10.446115</td>\n",
       "      <td>5.641312</td>\n",
       "    </tr>\n",
       "    <tr>\n",
       "      <th>std</th>\n",
       "      <td>458.502868</td>\n",
       "      <td>1.750999</td>\n",
       "      <td>0.178843</td>\n",
       "      <td>0.191143</td>\n",
       "      <td>0.612018</td>\n",
       "      <td>0.016364</td>\n",
       "      <td>9.789847</td>\n",
       "      <td>30.166060</td>\n",
       "      <td>0.001829</td>\n",
       "      <td>0.152050</td>\n",
       "      <td>0.125332</td>\n",
       "      <td>1.058491</td>\n",
       "      <td>0.797007</td>\n",
       "    </tr>\n",
       "    <tr>\n",
       "      <th>min</th>\n",
       "      <td>1.000000</td>\n",
       "      <td>4.600000</td>\n",
       "      <td>0.120000</td>\n",
       "      <td>0.000000</td>\n",
       "      <td>0.900000</td>\n",
       "      <td>0.034000</td>\n",
       "      <td>1.000000</td>\n",
       "      <td>6.000000</td>\n",
       "      <td>0.990070</td>\n",
       "      <td>2.860000</td>\n",
       "      <td>0.330000</td>\n",
       "      <td>8.400000</td>\n",
       "      <td>3.000000</td>\n",
       "    </tr>\n",
       "    <tr>\n",
       "      <th>25%</th>\n",
       "      <td>421.000000</td>\n",
       "      <td>7.100000</td>\n",
       "      <td>0.390000</td>\n",
       "      <td>0.090000</td>\n",
       "      <td>1.900000</td>\n",
       "      <td>0.070000</td>\n",
       "      <td>8.000000</td>\n",
       "      <td>22.000000</td>\n",
       "      <td>0.995510</td>\n",
       "      <td>3.220000</td>\n",
       "      <td>0.550000</td>\n",
       "      <td>9.500000</td>\n",
       "      <td>5.000000</td>\n",
       "    </tr>\n",
       "    <tr>\n",
       "      <th>50%</th>\n",
       "      <td>819.000000</td>\n",
       "      <td>7.900000</td>\n",
       "      <td>0.520000</td>\n",
       "      <td>0.250000</td>\n",
       "      <td>2.200000</td>\n",
       "      <td>0.079000</td>\n",
       "      <td>14.000000</td>\n",
       "      <td>37.000000</td>\n",
       "      <td>0.996600</td>\n",
       "      <td>3.320000</td>\n",
       "      <td>0.620000</td>\n",
       "      <td>10.200000</td>\n",
       "      <td>6.000000</td>\n",
       "    </tr>\n",
       "    <tr>\n",
       "      <th>75%</th>\n",
       "      <td>1211.000000</td>\n",
       "      <td>9.200000</td>\n",
       "      <td>0.635000</td>\n",
       "      <td>0.420000</td>\n",
       "      <td>2.500000</td>\n",
       "      <td>0.088000</td>\n",
       "      <td>21.000000</td>\n",
       "      <td>60.000000</td>\n",
       "      <td>0.997740</td>\n",
       "      <td>3.410000</td>\n",
       "      <td>0.710000</td>\n",
       "      <td>11.100000</td>\n",
       "      <td>6.000000</td>\n",
       "    </tr>\n",
       "    <tr>\n",
       "      <th>max</th>\n",
       "      <td>1599.000000</td>\n",
       "      <td>15.600000</td>\n",
       "      <td>1.580000</td>\n",
       "      <td>0.790000</td>\n",
       "      <td>5.000000</td>\n",
       "      <td>0.147000</td>\n",
       "      <td>57.000000</td>\n",
       "      <td>165.000000</td>\n",
       "      <td>1.003200</td>\n",
       "      <td>4.010000</td>\n",
       "      <td>1.110000</td>\n",
       "      <td>14.000000</td>\n",
       "      <td>8.000000</td>\n",
       "    </tr>\n",
       "  </tbody>\n",
       "</table>\n",
       "</div>"
      ],
      "text/plain": [
       "                id  fixed_acidity  volatile_acidity  citric_acid  \\\n",
       "count  1433.000000    1433.000000       1433.000000  1433.000000   \n",
       "mean    812.624564       8.312491          0.527034     0.260998   \n",
       "std     458.502868       1.750999          0.178843     0.191143   \n",
       "min       1.000000       4.600000          0.120000     0.000000   \n",
       "25%     421.000000       7.100000          0.390000     0.090000   \n",
       "50%     819.000000       7.900000          0.520000     0.250000   \n",
       "75%    1211.000000       9.200000          0.635000     0.420000   \n",
       "max    1599.000000      15.600000          1.580000     0.790000   \n",
       "\n",
       "       residual_sugar    chlorides  free_sulfur_dioxide  total_sulfur_dioxide  \\\n",
       "count     1433.000000  1433.000000          1433.000000           1433.000000   \n",
       "mean         2.277879     0.079431            15.613747             44.613398   \n",
       "std          0.612018     0.016364             9.789847             30.166060   \n",
       "min          0.900000     0.034000             1.000000              6.000000   \n",
       "25%          1.900000     0.070000             8.000000             22.000000   \n",
       "50%          2.200000     0.079000            14.000000             37.000000   \n",
       "75%          2.500000     0.088000            21.000000             60.000000   \n",
       "max          5.000000     0.147000            57.000000            165.000000   \n",
       "\n",
       "           density           pH     sulfates      alcohol      quality  \n",
       "count  1433.000000  1433.000000  1433.000000  1433.000000  1433.000000  \n",
       "mean      0.996634     3.319826     0.637976    10.446115     5.641312  \n",
       "std       0.001829     0.152050     0.125332     1.058491     0.797007  \n",
       "min       0.990070     2.860000     0.330000     8.400000     3.000000  \n",
       "25%       0.995510     3.220000     0.550000     9.500000     5.000000  \n",
       "50%       0.996600     3.320000     0.620000    10.200000     6.000000  \n",
       "75%       0.997740     3.410000     0.710000    11.100000     6.000000  \n",
       "max       1.003200     4.010000     1.110000    14.000000     8.000000  "
      ]
     },
     "execution_count": 16,
     "metadata": {},
     "output_type": "execute_result"
    }
   ],
   "source": [
    "wine.describe()"
   ]
  },
  {
   "cell_type": "code",
   "execution_count": 17,
   "metadata": {},
   "outputs": [
    {
     "name": "stdout",
     "output_type": "stream",
     "text": [
      "0.030337867065943325 0.12852465910293248\n",
      "0.4418242467996554 4.113932906026584\n",
      "0.2619809642945551 1.013971582809424\n"
     ]
    }
   ],
   "source": [
    "chlorides_min = wine.chlorides.mean() - 3 * wine.chlorides.std()\n",
    "chlorides_max = wine.chlorides.mean() + 3 * wine.chlorides.std()\n",
    "print(chlorides_min, chlorides_max)\n",
    "\n",
    "residual_sugar_min = wine.residual_sugar.mean() - 3*wine.residual_sugar.std()\n",
    "residual_sugar_max = wine.residual_sugar.mean() + 3*wine.residual_sugar.std()\n",
    "print(residual_sugar_min, residual_sugar_max)\n",
    "\n",
    "sulfates_min = wine.sulfates.mean() - 3 * wine.sulfates.std()\n",
    "sulfates_max = wine.sulfates.mean() + 3 * wine.sulfates.std()\n",
    "print(sulfates_min, sulfates_max)"
   ]
  },
  {
   "cell_type": "code",
   "execution_count": 18,
   "metadata": {},
   "outputs": [],
   "source": [
    "wine = wine[\n",
    "    (np.abs(stats.zscore(wine.chlorides)) < 3) & \\\n",
    "    (np.abs(stats.zscore(wine.residual_sugar))< 3) & \\\n",
    "    (np.abs(stats.zscore(wine.sulfates))< 3)\n",
    "]"
   ]
  },
  {
   "cell_type": "code",
   "execution_count": 19,
   "metadata": {},
   "outputs": [
    {
     "data": {
      "text/plain": [
       "(1380, 13)"
      ]
     },
     "execution_count": 19,
     "metadata": {},
     "output_type": "execute_result"
    }
   ],
   "source": [
    "wine.shape"
   ]
  },
  {
   "cell_type": "markdown",
   "metadata": {},
   "source": [
    "Get help for the above"
   ]
  },
  {
   "cell_type": "markdown",
   "metadata": {},
   "source": [
    "### Normalization and Standardization"
   ]
  },
  {
   "cell_type": "code",
   "execution_count": 21,
   "metadata": {},
   "outputs": [
    {
     "data": {
      "text/html": [
       "<div>\n",
       "<style scoped>\n",
       "    .dataframe tbody tr th:only-of-type {\n",
       "        vertical-align: middle;\n",
       "    }\n",
       "\n",
       "    .dataframe tbody tr th {\n",
       "        vertical-align: top;\n",
       "    }\n",
       "\n",
       "    .dataframe thead th {\n",
       "        text-align: right;\n",
       "    }\n",
       "</style>\n",
       "<table border=\"1\" class=\"dataframe\">\n",
       "  <thead>\n",
       "    <tr style=\"text-align: right;\">\n",
       "      <th></th>\n",
       "      <th>id</th>\n",
       "      <th>fixed_acidity</th>\n",
       "      <th>volatile_acidity</th>\n",
       "      <th>citric_acid</th>\n",
       "      <th>residual_sugar</th>\n",
       "      <th>chlorides</th>\n",
       "      <th>free_sulfur_dioxide</th>\n",
       "      <th>total_sulfur_dioxide</th>\n",
       "      <th>density</th>\n",
       "      <th>pH</th>\n",
       "      <th>sulfates</th>\n",
       "      <th>alcohol</th>\n",
       "      <th>quality</th>\n",
       "    </tr>\n",
       "  </thead>\n",
       "  <tbody>\n",
       "    <tr>\n",
       "      <th>count</th>\n",
       "      <td>1380.000000</td>\n",
       "      <td>1380.000000</td>\n",
       "      <td>1380.000000</td>\n",
       "      <td>1380.000000</td>\n",
       "      <td>1380.000000</td>\n",
       "      <td>1380.000000</td>\n",
       "      <td>1380.000000</td>\n",
       "      <td>1380.000000</td>\n",
       "      <td>1380.000000</td>\n",
       "      <td>1380.00000</td>\n",
       "      <td>1380.000000</td>\n",
       "      <td>1380.000000</td>\n",
       "      <td>1380.000000</td>\n",
       "    </tr>\n",
       "    <tr>\n",
       "      <th>mean</th>\n",
       "      <td>815.777536</td>\n",
       "      <td>8.258623</td>\n",
       "      <td>0.526489</td>\n",
       "      <td>0.256862</td>\n",
       "      <td>2.229094</td>\n",
       "      <td>0.078886</td>\n",
       "      <td>15.667754</td>\n",
       "      <td>44.896377</td>\n",
       "      <td>0.996591</td>\n",
       "      <td>3.32221</td>\n",
       "      <td>0.634536</td>\n",
       "      <td>10.423176</td>\n",
       "      <td>5.644928</td>\n",
       "    </tr>\n",
       "    <tr>\n",
       "      <th>std</th>\n",
       "      <td>459.998645</td>\n",
       "      <td>1.693311</td>\n",
       "      <td>0.175829</td>\n",
       "      <td>0.189060</td>\n",
       "      <td>0.515661</td>\n",
       "      <td>0.015636</td>\n",
       "      <td>9.702871</td>\n",
       "      <td>30.184737</td>\n",
       "      <td>0.001789</td>\n",
       "      <td>0.15122</td>\n",
       "      <td>0.119810</td>\n",
       "      <td>1.048516</td>\n",
       "      <td>0.779549</td>\n",
       "    </tr>\n",
       "    <tr>\n",
       "      <th>min</th>\n",
       "      <td>1.000000</td>\n",
       "      <td>4.600000</td>\n",
       "      <td>0.120000</td>\n",
       "      <td>0.000000</td>\n",
       "      <td>0.900000</td>\n",
       "      <td>0.034000</td>\n",
       "      <td>1.000000</td>\n",
       "      <td>6.000000</td>\n",
       "      <td>0.990070</td>\n",
       "      <td>2.86000</td>\n",
       "      <td>0.330000</td>\n",
       "      <td>8.400000</td>\n",
       "      <td>3.000000</td>\n",
       "    </tr>\n",
       "    <tr>\n",
       "      <th>25%</th>\n",
       "      <td>420.750000</td>\n",
       "      <td>7.100000</td>\n",
       "      <td>0.390000</td>\n",
       "      <td>0.087500</td>\n",
       "      <td>1.900000</td>\n",
       "      <td>0.069750</td>\n",
       "      <td>8.000000</td>\n",
       "      <td>23.000000</td>\n",
       "      <td>0.995500</td>\n",
       "      <td>3.22000</td>\n",
       "      <td>0.550000</td>\n",
       "      <td>9.500000</td>\n",
       "      <td>5.000000</td>\n",
       "    </tr>\n",
       "    <tr>\n",
       "      <th>50%</th>\n",
       "      <td>824.500000</td>\n",
       "      <td>7.900000</td>\n",
       "      <td>0.520000</td>\n",
       "      <td>0.240000</td>\n",
       "      <td>2.150000</td>\n",
       "      <td>0.078000</td>\n",
       "      <td>14.000000</td>\n",
       "      <td>37.000000</td>\n",
       "      <td>0.996600</td>\n",
       "      <td>3.32000</td>\n",
       "      <td>0.610000</td>\n",
       "      <td>10.100000</td>\n",
       "      <td>6.000000</td>\n",
       "    </tr>\n",
       "    <tr>\n",
       "      <th>75%</th>\n",
       "      <td>1213.250000</td>\n",
       "      <td>9.100000</td>\n",
       "      <td>0.635000</td>\n",
       "      <td>0.400000</td>\n",
       "      <td>2.500000</td>\n",
       "      <td>0.088000</td>\n",
       "      <td>21.000000</td>\n",
       "      <td>60.000000</td>\n",
       "      <td>0.997682</td>\n",
       "      <td>3.41000</td>\n",
       "      <td>0.710000</td>\n",
       "      <td>11.100000</td>\n",
       "      <td>6.000000</td>\n",
       "    </tr>\n",
       "    <tr>\n",
       "      <th>max</th>\n",
       "      <td>1599.000000</td>\n",
       "      <td>15.600000</td>\n",
       "      <td>1.330000</td>\n",
       "      <td>0.760000</td>\n",
       "      <td>4.100000</td>\n",
       "      <td>0.128000</td>\n",
       "      <td>57.000000</td>\n",
       "      <td>165.000000</td>\n",
       "      <td>1.003200</td>\n",
       "      <td>4.01000</td>\n",
       "      <td>1.010000</td>\n",
       "      <td>14.000000</td>\n",
       "      <td>8.000000</td>\n",
       "    </tr>\n",
       "  </tbody>\n",
       "</table>\n",
       "</div>"
      ],
      "text/plain": [
       "                id  fixed_acidity  volatile_acidity  citric_acid  \\\n",
       "count  1380.000000    1380.000000       1380.000000  1380.000000   \n",
       "mean    815.777536       8.258623          0.526489     0.256862   \n",
       "std     459.998645       1.693311          0.175829     0.189060   \n",
       "min       1.000000       4.600000          0.120000     0.000000   \n",
       "25%     420.750000       7.100000          0.390000     0.087500   \n",
       "50%     824.500000       7.900000          0.520000     0.240000   \n",
       "75%    1213.250000       9.100000          0.635000     0.400000   \n",
       "max    1599.000000      15.600000          1.330000     0.760000   \n",
       "\n",
       "       residual_sugar    chlorides  free_sulfur_dioxide  total_sulfur_dioxide  \\\n",
       "count     1380.000000  1380.000000          1380.000000           1380.000000   \n",
       "mean         2.229094     0.078886            15.667754             44.896377   \n",
       "std          0.515661     0.015636             9.702871             30.184737   \n",
       "min          0.900000     0.034000             1.000000              6.000000   \n",
       "25%          1.900000     0.069750             8.000000             23.000000   \n",
       "50%          2.150000     0.078000            14.000000             37.000000   \n",
       "75%          2.500000     0.088000            21.000000             60.000000   \n",
       "max          4.100000     0.128000            57.000000            165.000000   \n",
       "\n",
       "           density          pH     sulfates      alcohol      quality  \n",
       "count  1380.000000  1380.00000  1380.000000  1380.000000  1380.000000  \n",
       "mean      0.996591     3.32221     0.634536    10.423176     5.644928  \n",
       "std       0.001789     0.15122     0.119810     1.048516     0.779549  \n",
       "min       0.990070     2.86000     0.330000     8.400000     3.000000  \n",
       "25%       0.995500     3.22000     0.550000     9.500000     5.000000  \n",
       "50%       0.996600     3.32000     0.610000    10.100000     6.000000  \n",
       "75%       0.997682     3.41000     0.710000    11.100000     6.000000  \n",
       "max       1.003200     4.01000     1.010000    14.000000     8.000000  "
      ]
     },
     "execution_count": 21,
     "metadata": {},
     "output_type": "execute_result"
    }
   ],
   "source": [
    "wine.describe()"
   ]
  },
  {
   "cell_type": "code",
   "execution_count": 36,
   "metadata": {},
   "outputs": [
    {
     "data": {
      "image/png": "[encoded data removed]",
      "text/plain": [
       "<Figure size 432x432 with 1 Axes>"
      ]
     },
     "metadata": {
      "needs_background": "light"
     },
     "output_type": "display_data"
    }
   ],
   "source": [
    "wine.total_sulfur_dioxide.plot.kde();"
   ]
  },
  {
   "cell_type": "code",
   "execution_count": 25,
   "metadata": {},
   "outputs": [],
   "source": [
    "from scipy import stats"
   ]
  },
  {
   "cell_type": "code",
   "execution_count": 26,
   "metadata": {},
   "outputs": [
    {
     "data": {
      "text/plain": [
       "0.6404583191183592"
      ]
     },
     "execution_count": 26,
     "metadata": {},
     "output_type": "execute_result"
    }
   ],
   "source": [
    "stats.skew(wine.total_sulfur_dioxide)"
   ]
  },
  {
   "cell_type": "markdown",
   "metadata": {},
   "source": [
    "#### Normalization"
   ]
  },
  {
   "cell_type": "code",
   "execution_count": 37,
   "metadata": {},
   "outputs": [
    {
     "data": {
      "image/png": "[encoded data removed]",
      "text/plain": [
       "<Figure size 432x432 with 1 Axes>"
      ]
     },
     "metadata": {
      "needs_background": "light"
     },
     "output_type": "display_data"
    }
   ],
   "source": [
    "total_x_min = wine.total_sulfur_dioxide.min()\n",
    "total_x_max = wine.total_sulfur_dioxide.max()\n",
    "\n",
    "total_original = wine.total_sulfur_dioxide\n",
    "total_normalized = total_original.apply(\n",
    "    lambda x: (x-total_x_min) / (total_x_max - total_x_min))\n",
    "\n",
    "total_normalized.plot.hist(label=\"normalized\")\n",
    "total_original.plot.hist(label=\"original\")\n",
    "plt.legend();"
   ]
  },
  {
   "cell_type": "markdown",
   "metadata": {},
   "source": [
    "#### Standardization"
   ]
  },
  {
   "cell_type": "code",
   "execution_count": 40,
   "metadata": {},
   "outputs": [
    {
     "data": {
      "image/png": "[encoded data removed]",
      "text/plain": [
       "<Figure size 432x432 with 1 Axes>"
      ]
     },
     "metadata": {
      "needs_background": "light"
     },
     "output_type": "display_data"
    }
   ],
   "source": [
    "total_x_mu = wine.total_sulfur_dioxide.mean()\n",
    "total_x_sigma = wine.total_sulfur_dioxide.std()\n",
    "\n",
    "total_standardized = total_original.apply(lambda x: (x-total_x_mu) / total_x_sigma)\n",
    "\n",
    "total_standardized.plot.hist(label=\"standardized\", alpha=0.5)\n",
    "total_original.plot.hist(label=\"original\", alpha=0.5)\n",
    "plt.legend();"
   ]
  },
  {
   "cell_type": "code",
   "execution_count": 42,
   "metadata": {},
   "outputs": [],
   "source": [
    "original_pH = wine.pH\n",
    "\n",
    "pH_mu = original_pH.mean()\n",
    "pH_sigma = original_pH.std()\n",
    "pH_min = original_pH.min()\n",
    "pH_max = original_pH.max()\n",
    "\n",
    "pH_standardized = original_pH.apply(lambda x: (x-pH_mu)/pH_sigma)\n",
    "pH_normalized = original_pH.apply(lambda x: (x-pH_min)/(pH_max - pH_min))"
   ]
  },
  {
   "cell_type": "code",
   "execution_count": 44,
   "metadata": {},
   "outputs": [
    {
     "data": {
      "image/png": "[encoded data removed]",
      "text/plain": [
       "<Figure size 432x432 with 1 Axes>"
      ]
     },
     "metadata": {
      "needs_background": "light"
     },
     "output_type": "display_data"
    }
   ],
   "source": [
    "plt.scatter(x=original_pH,y=total_original, label=\"original\")\n",
    "plt.scatter(x=pH_standardized,y=total_standardized, label=\"standardized\")\n",
    "plt.scatter(x=pH_normalized,y=total_normalized, label=\"normalized\")\n",
    "\n",
    "plt.xlabel(\"pH\")\n",
    "plt.ylabel(\"total\")\n",
    "plt.title(\"Diferences between different scaling methods\")\n",
    "plt.legend();"
   ]
  },
  {
   "cell_type": "code",
   "execution_count": 46,
   "metadata": {},
   "outputs": [
    {
     "data": {
      "image/png": "[encoded data removed]",
      "text/plain": [
       "<Figure size 432x432 with 1 Axes>"
      ]
     },
     "metadata": {
      "needs_background": "light"
     },
     "output_type": "display_data"
    }
   ],
   "source": [
    "plt.scatter(x=total_normalized,y=pH_normalized, label=\"normalized\");"
   ]
  },
  {
   "cell_type": "code",
   "execution_count": null,
   "metadata": {},
   "outputs": [],
   "source": []
  }
 ],
 "metadata": {
  "kernelspec": {
   "display_name": "Python 3",
   "language": "python",
   "name": "python3"
  },
  "language_info": {
   "codemirror_mode": {
    "name": "ipython",
    "version": 3
   },
   "file_extension": ".py",
   "mimetype": "text/x-python",
   "name": "python",
   "nbconvert_exporter": "python",
   "pygments_lexer": "ipython3",
   "version": "3.7.3"
  }
 },
 "nbformat": 4,
 "nbformat_minor": 2
}
