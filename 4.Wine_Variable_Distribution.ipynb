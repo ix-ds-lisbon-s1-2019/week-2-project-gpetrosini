{
 "cells": [
  {
   "cell_type": "markdown",
   "metadata": {},
   "source": [
    "# Variable Distribution\n",
    "In this step we will analyze the data in order to understand how the variables are distributed.\n"
   ]
  },
  {
   "cell_type": "code",
   "execution_count": 1,
   "metadata": {},
   "outputs": [],
   "source": [
    "import pandas as pd\n",
    "import numpy as np\n",
    "import matplotlib.pyplot as plt\n",
    "import seaborn as sns\n",
    "from IPython.display import Image"
   ]
  },
  {
   "cell_type": "code",
   "execution_count": 2,
   "metadata": {},
   "outputs": [],
   "source": [
    "%matplotlib inline\n",
    "\n",
    "plt.rcParams['figure.figsize'] = (6,6)"
   ]
  },
  {
   "cell_type": "markdown",
   "metadata": {},
   "source": [
    "### Load the pickle file"
   ]
  },
  {
   "cell_type": "code",
   "execution_count": 3,
   "metadata": {},
   "outputs": [],
   "source": [
    "wine = pd.read_pickle(\"data/wine.3.grouped.pkl\")"
   ]
  },
  {
   "cell_type": "code",
   "execution_count": 4,
   "metadata": {},
   "outputs": [
    {
     "data": {
      "text/plain": [
       "id                         int64\n",
       "volatile_acidity         float64\n",
       "citric_acid              float64\n",
       "residual_sugar           float64\n",
       "chlorides                float64\n",
       "total_sulfur_dioxide     float64\n",
       "density                  float64\n",
       "pH                       float64\n",
       "sulfates                 float64\n",
       "alcohol                  float64\n",
       "quality                    int64\n",
       "quality_rating          category\n",
       "pH_level                category\n",
       "alcohol_level           category\n",
       "density_level           category\n",
       "citric_acid_level       category\n",
       "sugar_level             category\n",
       "chloride_level          category\n",
       "total_sulfur_level      category\n",
       "dtype: object"
      ]
     },
     "execution_count": 4,
     "metadata": {},
     "output_type": "execute_result"
    }
   ],
   "source": [
    "wine.dtypes"
   ]
  },
  {
   "cell_type": "markdown",
   "metadata": {},
   "source": [
    "### Numerical Variable Distribution\n",
    "We can analyze the distribution by viewing the data as a KDE (Kernal Density Estimate) graph, a more continuous histogram."
   ]
  },
  {
   "cell_type": "code",
   "execution_count": 5,
   "metadata": {},
   "outputs": [],
   "source": [
    "def numerical_variable_distribution(df, col):\n",
    "    df[col].plot.kde()\n",
    "    plt.xlabel('Variable \"{}\" Distribution'.format(col))\n",
    "    plt.show()"
   ]
  },
  {
   "cell_type": "code",
   "execution_count": 6,
   "metadata": {},
   "outputs": [],
   "source": [
    "numerical_columns = wine.select_dtypes(include=[np.number]).columns.tolist()"
   ]
  },
  {
   "cell_type": "code",
   "execution_count": 7,
   "metadata": {},
   "outputs": [],
   "source": [
    "from ipywidgets import interact, fixed"
   ]
  },
  {
   "cell_type": "code",
   "execution_count": 8,
   "metadata": {
    "scrolled": true
   },
   "outputs": [
    {
     "data": {
      "application/vnd.jupyter.widget-view+json": {
       "model_id": "d0da34cbe5424070adbca22485fc90ab",
       "version_major": 2,
       "version_minor": 0
      },
      "text/plain": [
       "interactive(children=(Dropdown(description='col', options=('id', 'volatile_acidity', 'citric_acid', 'residual_…"
      ]
     },
     "metadata": {},
     "output_type": "display_data"
    }
   ],
   "source": [
    "interact(numerical_variable_distribution, \n",
    "         col=numerical_columns, df=fixed(wine));"
   ]
  },
  {
   "cell_type": "markdown",
   "metadata": {},
   "source": [
    "Quality and citric_acid are two variables that are definitely not normally distributed."
   ]
  },
  {
   "cell_type": "code",
   "execution_count": 9,
   "metadata": {
    "scrolled": true
   },
   "outputs": [
    {
     "data": {
      "text/plain": [
       "5    0.425891\n",
       "6    0.398999\n",
       "7    0.124453\n",
       "4    0.033146\n",
       "8    0.011257\n",
       "3    0.006254\n",
       "Name: quality, dtype: float64"
      ]
     },
     "execution_count": 9,
     "metadata": {},
     "output_type": "execute_result"
    }
   ],
   "source": [
    "wine[\"quality\"].value_counts(normalize=True)"
   ]
  },
  {
   "cell_type": "code",
   "execution_count": 10,
   "metadata": {},
   "outputs": [
    {
     "data": {
      "text/plain": [
       "0.00    0.082552\n",
       "0.49    0.042527\n",
       "0.24    0.031895\n",
       "0.02    0.031270\n",
       "0.26    0.023765\n",
       "0.10    0.021889\n",
       "0.08    0.020638\n",
       "0.01    0.020638\n",
       "0.21    0.020638\n",
       "0.32    0.020013\n",
       "0.03    0.018762\n",
       "0.09    0.018762\n",
       "0.31    0.018762\n",
       "0.30    0.018762\n",
       "0.42    0.018136\n",
       "0.40    0.018136\n",
       "0.04    0.018136\n",
       "0.39    0.017511\n",
       "0.22    0.016886\n",
       "0.12    0.016886\n",
       "0.25    0.016886\n",
       "0.33    0.015635\n",
       "0.20    0.015635\n",
       "0.23    0.015635\n",
       "0.06    0.015009\n",
       "0.34    0.015009\n",
       "0.48    0.014384\n",
       "0.44    0.014384\n",
       "0.45    0.013759\n",
       "0.07    0.013759\n",
       "          ...   \n",
       "0.38    0.008755\n",
       "0.53    0.008755\n",
       "0.51    0.008130\n",
       "0.54    0.008130\n",
       "0.35    0.008130\n",
       "0.55    0.007505\n",
       "0.68    0.006879\n",
       "0.63    0.006254\n",
       "0.57    0.005629\n",
       "0.64    0.005629\n",
       "0.16    0.005629\n",
       "0.58    0.005629\n",
       "0.60    0.005629\n",
       "0.59    0.005003\n",
       "0.56    0.005003\n",
       "0.65    0.004378\n",
       "0.74    0.002502\n",
       "0.69    0.002502\n",
       "0.76    0.001876\n",
       "0.73    0.001876\n",
       "0.67    0.001251\n",
       "0.61    0.001251\n",
       "0.70    0.001251\n",
       "0.71    0.000625\n",
       "0.79    0.000625\n",
       "0.75    0.000625\n",
       "0.78    0.000625\n",
       "1.00    0.000625\n",
       "0.62    0.000625\n",
       "0.72    0.000625\n",
       "Name: citric_acid, Length: 80, dtype: float64"
      ]
     },
     "execution_count": 10,
     "metadata": {},
     "output_type": "execute_result"
    }
   ],
   "source": [
    "wine[\"citric_acid\"].value_counts(normalize=True)"
   ]
  },
  {
   "cell_type": "markdown",
   "metadata": {},
   "source": [
    "To check if any of the variables are normally distributed we will create a probability plot."
   ]
  },
  {
   "cell_type": "code",
   "execution_count": 11,
   "metadata": {},
   "outputs": [],
   "source": [
    "from scipy import stats"
   ]
  },
  {
   "cell_type": "code",
   "execution_count": 12,
   "metadata": {},
   "outputs": [],
   "source": [
    "def numerical_variable_normality(col):\n",
    "    stats.probplot(wine[col], plot=plt)\n",
    "    plt.xlabel('Probability plot for variable {}'.format(col))\n",
    "    plt.show()"
   ]
  },
  {
   "cell_type": "code",
   "execution_count": 13,
   "metadata": {},
   "outputs": [
    {
     "data": {
      "application/vnd.jupyter.widget-view+json": {
       "model_id": "43658480ab5b417f85e0c66d5003b07e",
       "version_major": 2,
       "version_minor": 0
      },
      "text/plain": [
       "interactive(children=(Dropdown(description='col', options=('id', 'volatile_acidity', 'citric_acid', 'residual_…"
      ]
     },
     "metadata": {},
     "output_type": "display_data"
    }
   ],
   "source": [
    "interact(numerical_variable_normality, col=numerical_columns);"
   ]
  },
  {
   "cell_type": "code",
   "execution_count": 14,
   "metadata": {},
   "outputs": [
    {
     "name": "stdout",
     "output_type": "stream",
     "text": [
      "Column id doesn't follow a normal distribution\n",
      "Column volatile_acidity doesn't follow a normal distribution\n",
      "Column citric_acid doesn't follow a normal distribution\n",
      "Column residual_sugar doesn't follow a normal distribution\n",
      "Column chlorides doesn't follow a normal distribution\n",
      "Column total_sulfur_dioxide doesn't follow a normal distribution\n",
      "Column density doesn't follow a normal distribution\n",
      "Column pH doesn't follow a normal distribution\n",
      "Column sulfates doesn't follow a normal distribution\n",
      "Column alcohol doesn't follow a normal distribution\n",
      "Column quality doesn't follow a normal distribution\n"
     ]
    }
   ],
   "source": [
    "for num_col in numerical_columns:\n",
    "    _, pval = stats.normaltest(wine[num_col][wine[num_col].notnull()])\n",
    "    if(pval < 0.05):\n",
    "        print(\"Column {} doesn't follow a normal distribution\".format(num_col))"
   ]
  },
  {
   "cell_type": "markdown",
   "metadata": {},
   "source": [
    "None of the variables follow a normal distribution.\n",
    "\n",
    "### Categorical Variable Distribution\n",
    "\n",
    "To understand the distribution of categorical variables, we use the function .value_counts()"
   ]
  },
  {
   "cell_type": "code",
   "execution_count": 15,
   "metadata": {},
   "outputs": [],
   "source": [
    "def categorical_variable_distribution(col):\n",
    "    wine[col].value_counts(ascending=True,normalize=True).tail(20).plot.barh()\n",
    "    plt.show()"
   ]
  },
  {
   "cell_type": "code",
   "execution_count": 16,
   "metadata": {},
   "outputs": [],
   "source": [
    "categorical_columns = wine.select_dtypes(\n",
    "    ['object', 'category']).columns.tolist()"
   ]
  },
  {
   "cell_type": "code",
   "execution_count": 17,
   "metadata": {},
   "outputs": [
    {
     "data": {
      "text/plain": [
       "['quality_rating',\n",
       " 'pH_level',\n",
       " 'alcohol_level',\n",
       " 'density_level',\n",
       " 'citric_acid_level',\n",
       " 'sugar_level',\n",
       " 'chloride_level',\n",
       " 'total_sulfur_level']"
      ]
     },
     "execution_count": 17,
     "metadata": {},
     "output_type": "execute_result"
    }
   ],
   "source": [
    "categorical_columns"
   ]
  },
  {
   "cell_type": "code",
   "execution_count": 18,
   "metadata": {},
   "outputs": [
    {
     "data": {
      "application/vnd.jupyter.widget-view+json": {
       "model_id": "157ad6b975eb426f8d802465b632bbe4",
       "version_major": 2,
       "version_minor": 0
      },
      "text/plain": [
       "interactive(children=(Dropdown(description='col', options=('quality_rating', 'pH_level', 'alcohol_level', 'den…"
      ]
     },
     "metadata": {},
     "output_type": "display_data"
    }
   ],
   "source": [
    "interact(categorical_variable_distribution, col=categorical_columns);"
   ]
  },
  {
   "cell_type": "markdown",
   "metadata": {},
   "source": [
    "### Conclusions\n",
    "- No numerical variable follows a normal distribution\n",
    "- The variable `quality` has an unbalanced discrete distribution (the values 5, 6 and 7 account for 95% of the wines). It has been grouped into 'bad', 'okay', 'good', and 'excellent'.\n",
    "- The variable 'citric acid' may also have an unbalanced distribution. The value 0.0 accounts for 8% of the wine's citric acid content. This sounds like a small amount, but there are lots of values.\n",
    "- 28% of wines have very low alcohol content\n",
    "- 23% of wines have very low fixed acidity\n",
    "- 1/4 of wines have low sugar levels"
   ]
  },
  {
   "cell_type": "code",
   "execution_count": null,
   "metadata": {},
   "outputs": [],
   "source": []
  }
 ],
 "metadata": {
  "kernelspec": {
   "display_name": "Python 3",
   "language": "python",
   "name": "python3"
  },
  "language_info": {
   "codemirror_mode": {
    "name": "ipython",
    "version": 3
   },
   "file_extension": ".py",
   "mimetype": "text/x-python",
   "name": "python",
   "nbconvert_exporter": "python",
   "pygments_lexer": "ipython3",
   "version": "3.7.3"
  }
 },
 "nbformat": 4,
 "nbformat_minor": 2
}
